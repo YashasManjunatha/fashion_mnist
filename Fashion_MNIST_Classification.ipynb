{
 "cells": [
  {
   "cell_type": "code",
   "execution_count": 189,
   "metadata": {
    "_cell_guid": "b1076dfc-b9ad-4769-8c92-a6c4dae69d19",
    "_uuid": "8f2839f25d086af736a60e9eeb907d3b93b6e0e5"
   },
   "outputs": [
    {
     "name": "stdout",
     "output_type": "stream",
     "text": [
      "['fake_submission.csv', 'train_labels.npy', 'train_images.npy', 'test_images.npy']\n"
     ]
    }
   ],
   "source": [
    "# This Python 3 environment comes with many helpful analytics libraries installed\n",
    "# It is defined by the kaggle/python docker image: https://github.com/kaggle/docker-python\n",
    "# For example, here's several helpful packages to load in \n",
    "\n",
    "import numpy as np # linear algebra\n",
    "import pandas as pd # data processing, CSV file I/O (e.g. pd.read_csv)\n",
    "\n",
    "# Input data files are available in the \"../input/\" directory.\n",
    "# For example, running this (by clicking run or pressing Shift+Enter) will list the files in the input directory\n",
    "\n",
    "import os\n",
    "print(os.listdir(\"../input\"))\n",
    "\n",
    "# Any results you write to the current directory are saved as output."
   ]
  },
  {
   "cell_type": "code",
   "execution_count": 190,
   "metadata": {
    "_cell_guid": "79c7e3d0-c299-4dcb-8224-4455121ee9b0",
    "_uuid": "d629ff2d2480ee46fbb7e2d37f6b5fab8052498a"
   },
   "outputs": [],
   "source": [
    "#Loading Data\n",
    "train_X = np.load('../input/train_images.npy')\n",
    "train_Y = np.load('../input/train_labels.npy')\n",
    "test_X = np.load('../input/test_images.npy')"
   ]
  },
  {
   "cell_type": "code",
   "execution_count": 191,
   "metadata": {},
   "outputs": [
    {
     "name": "stdout",
     "output_type": "stream",
     "text": [
      "Training Data Shape :  (55000, 784) (55000,)\n",
      "Testing Data Shape :  (5000, 784)\n"
     ]
    }
   ],
   "source": [
    "import matplotlib.pyplot as plt\n",
    "\n",
    "#Understand Shape of Data\n",
    "print(train_X.shape, train_Y.shape)\n",
    "print(test_X.shape)\n",
    "\n",
    "#Understand Classes in Data\n",
    "classes = np.unique(train_Y)\n",
    "num_classes = len(classes)\n",
    "print(num_classes)\n",
    "print(classes)"
   ]
  },
  {
   "cell_type": "code",
   "execution_count": null,
   "metadata": {},
   "outputs": [],
   "source": [
    "from sklearn.decomposition import PCA\n",
    "\n",
    "#Perform PCA\n",
    "pca = PCA(n_components=2)\n",
    "projected = pca.fit_transform(train_X)"
   ]
  },
  {
   "cell_type": "code",
   "execution_count": null,
   "metadata": {},
   "outputs": [],
   "source": [
    "#Visualize PCA\n",
    "plt.scatter(projected[:, 0], projected[:, 1], s=3,\n",
    "            c=train_Y, edgecolor='none', alpha=0.5,\n",
    "            cmap=plt.cm.get_cmap('Spectral', 10))\n",
    "plt.xlabel('Component 1')\n",
    "plt.ylabel('Component 2')\n",
    "plt.colorbar();"
   ]
  },
  {
   "cell_type": "code",
   "execution_count": 175,
   "metadata": {},
   "outputs": [
    {
     "data": {
      "text/plain": [
       "((44000, 784), (11000, 784), (44000,), (11000,))"
      ]
     },
     "execution_count": 175,
     "metadata": {},
     "output_type": "execute_result"
    }
   ],
   "source": [
    "#Split Data into Train and Test\n",
    "from sklearn.model_selection import train_test_split\n",
    "X_train,X_test,Y_train,Y_test = train_test_split(train_X, train_Y, test_size=0.2)\n",
    "X_train.shape,X_test.shape,Y_train.shape,Y_test.shape"
   ]
  },
  {
   "cell_type": "code",
   "execution_count": 178,
   "metadata": {},
   "outputs": [],
   "source": [
    "from sklearn.ensemble import RandomForestClassifier\n",
    "from sklearn.model_selection import GridSearchCV\n",
    "\n",
    "#Create Parameter Grid\n",
    "param_grid = {\n",
    "    'max_depth': [10, 50, 100],\n",
    "    'n_estimators': [10, 50, 100, 150]\n",
    "}\n",
    "\n",
    "rf = RandomForestClassifier()\n",
    "#Perform a Grid Search on Parameter Grid\n",
    "grid_search = GridSearchCV(estimator = rf, param_grid = param_grid, \n",
    "                          cv = 3, n_jobs = -1, verbose = 2)"
   ]
  },
  {
   "cell_type": "code",
   "execution_count": 179,
   "metadata": {},
   "outputs": [
    {
     "name": "stdout",
     "output_type": "stream",
     "text": [
      "Fitting 3 folds for each of 12 candidates, totalling 36 fits\n"
     ]
    },
    {
     "name": "stderr",
     "output_type": "stream",
     "text": [
      "[Parallel(n_jobs=-1)]: Using backend LokyBackend with 2 concurrent workers.\n",
      "[Parallel(n_jobs=-1)]: Done  36 out of  36 | elapsed: 13.4min finished\n"
     ]
    },
    {
     "data": {
      "text/plain": [
       "GridSearchCV(cv=3, error_score='raise-deprecating',\n",
       "       estimator=RandomForestClassifier(bootstrap=True, class_weight=None, criterion='gini',\n",
       "            max_depth=None, max_features='auto', max_leaf_nodes=None,\n",
       "            min_impurity_decrease=0.0, min_impurity_split=None,\n",
       "            min_samples_leaf=1, min_samples_split=2,\n",
       "            min_weight_fraction_leaf=0.0, n_estimators='warn', n_jobs=None,\n",
       "            oob_score=False, random_state=None, verbose=0,\n",
       "            warm_start=False),\n",
       "       fit_params=None, iid='warn', n_jobs=-1,\n",
       "       param_grid={'max_depth': [10, 50, 100], 'n_estimators': [10, 50, 100, 150]},\n",
       "       pre_dispatch='2*n_jobs', refit=True, return_train_score='warn',\n",
       "       scoring=None, verbose=2)"
      ]
     },
     "execution_count": 179,
     "metadata": {},
     "output_type": "execute_result"
    }
   ],
   "source": [
    "#grid_search.fit(X_train,Y_train)"
   ]
  },
  {
   "cell_type": "code",
   "execution_count": 185,
   "metadata": {},
   "outputs": [
    {
     "name": "stderr",
     "output_type": "stream",
     "text": [
      "/opt/conda/lib/python3.6/site-packages/matplotlib/cbook/__init__.py:424: MatplotlibDeprecationWarning: \n",
      "Passing one of 'on', 'true', 'off', 'false' as a boolean is deprecated; use an actual boolean (True/False) instead.\n",
      "  warn_deprecated(\"2.2\", \"Passing one of 'on', 'true', 'off', 'false' as a \"\n"
     ]
    },
    {
     "data": {
      "image/png": "[encoded data removed]",
      "text/plain": [
       "<Figure size 432x288 with 1 Axes>"
      ]
     },
     "metadata": {},
     "output_type": "display_data"
    }
   ],
   "source": [
    "#Plotting code adapted from https://stackoverflow.com/questions/37161563/how-to-graph-grid-scores-from-gridsearchcv\n",
    "def plot_grid_search(cv_results, grid_param_1, grid_param_2, name_param_1, name_param_2):\n",
    "    # Get Test Scores Mean and std for each grid search\n",
    "    scores_mean = cv_results['mean_test_score']\n",
    "    scores_mean = np.array(scores_mean).reshape(len(grid_param_2),len(grid_param_1))\n",
    "\n",
    "    scores_sd = cv_results['std_test_score']\n",
    "    scores_sd = np.array(scores_sd).reshape(len(grid_param_2),len(grid_param_1))\n",
    "\n",
    "    # Plot Grid search scores\n",
    "    _, ax = plt.subplots(1,1)\n",
    "\n",
    "    # Param1 is the X-axis, Param 2 is represented as a different curve (color line)\n",
    "    for idx, val in enumerate(grid_param_2):\n",
    "        ax.plot(grid_param_1, scores_mean[idx,:], '-o', label= name_param_2 + ': ' + str(val))\n",
    "\n",
    "    ax.set_title(\"Grid Search Scores\", fontsize=20, fontweight='bold')\n",
    "    ax.set_xlabel(name_param_1, fontsize=16)\n",
    "    ax.set_ylabel('CV Average Score', fontsize=16)\n",
    "    ax.legend(loc=\"best\", fontsize=10)\n",
    "    ax.grid('on')\n",
    "\n",
    "max_depth = [10, 50, 100]\n",
    "n_estimators = [10, 50, 100, 150]\n",
    "\n",
    "#Plot Grid Search Results\n",
    "plot_grid_search(grid_search.cv_results_, n_estimators, max_depth, 'N Estimators', 'Max Depth')"
   ]
  },
  {
   "cell_type": "code",
   "execution_count": 186,
   "metadata": {},
   "outputs": [
    {
     "data": {
      "text/plain": [
       "RandomForestClassifier(bootstrap=True, class_weight=None, criterion='gini',\n",
       "            max_depth=100, max_features='auto', max_leaf_nodes=None,\n",
       "            min_impurity_decrease=0.0, min_impurity_split=None,\n",
       "            min_samples_leaf=1, min_samples_split=2,\n",
       "            min_weight_fraction_leaf=0.0, n_estimators=150, n_jobs=None,\n",
       "            oob_score=False, random_state=None, verbose=0,\n",
       "            warm_start=False)"
      ]
     },
     "execution_count": 186,
     "metadata": {},
     "output_type": "execute_result"
    }
   ],
   "source": [
    "from sklearn.ensemble import RandomForestClassifier\n",
    "\n",
    "#Random Forest Model with Tuned Hyperparameters\n",
    "rf = RandomForestClassifier(n_estimators=150, max_depth=100)\n",
    "rf.fit(X_train,Y_train)"
   ]
  },
  {
   "cell_type": "code",
   "execution_count": 187,
   "metadata": {},
   "outputs": [
    {
     "name": "stdout",
     "output_type": "stream",
     "text": [
      "1.0\n",
      "0.8772727272727273\n"
     ]
    }
   ],
   "source": [
    "print(rf.score(X_train, Y_train))\n",
    "print(rf.score(X_test, Y_test))"
   ]
  },
  {
   "cell_type": "code",
   "execution_count": 188,
   "metadata": {},
   "outputs": [
    {
     "name": "stdout",
     "output_type": "stream",
     "text": [
      "[9 1 6 ... 1 1 1]\n"
     ]
    }
   ],
   "source": [
    "#Use Random Forest Model to Predict on Test Data for Kaggle Submission\n",
    "predicted_classes = rf.predict(test_X)\n",
    "print(predicted_classes)"
   ]
  },
  {
   "cell_type": "code",
   "execution_count": null,
   "metadata": {},
   "outputs": [],
   "source": [
    "#import csv\n",
    "#\n",
    "#with open('rf_submission.csv', 'w') as output:\n",
    "#    writer = csv.writer(output)\n",
    "#    writer.writerow([\"Id\",\"Category\"])\n",
    "#    for i, value in enumerate(predicted_classes):\n",
    "#        writer.writerow([i,value])\n",
    "#    \n",
    "#output.close()"
   ]
  },
  {
   "cell_type": "code",
   "execution_count": 193,
   "metadata": {},
   "outputs": [
    {
     "name": "stdout",
     "output_type": "stream",
     "text": [
      "Training Data Shape :  (55000, 28, 28) (55000,)\n",
      "Testing Data Shape :  (5000, 28, 28)\n"
     ]
    }
   ],
   "source": [
    "\n",
    "#Reshape Data for Convolutional Neural Network Model\n",
    "train_X_reshape =  np.array([x.reshape(28,28) for x in train_X])\n",
    "print(train_X_reshape.shape, train_Y.shape)\n",
    "\n",
    "test_X_reshape = np.array([x.reshape(28,28) for x in test_X])\n",
    "print(test_X_reshape.shape)"
   ]
  },
  {
   "cell_type": "code",
   "execution_count": 194,
   "metadata": {},
   "outputs": [
    {
     "data": {
      "text/plain": [
       "Text(0.5, 1.0, 'Label : 4')"
      ]
     },
     "execution_count": 194,
     "metadata": {},
     "output_type": "execute_result"
    },
    {
     "data": {
      "image/png": "[encoded data removed]",
      "text/plain": [
       "<Figure size 360x360 with 1 Axes>"
      ]
     },
     "metadata": {},
     "output_type": "display_data"
    }
   ],
   "source": [
    "plt.figure(figsize=[5,5])\n",
    "\n",
    "# Visualize First Datapoint Image\n",
    "plt.subplot(121)\n",
    "plt.imshow(train_X_reshape[0,:,:], cmap='gray')\n",
    "plt.title(\"Label : {}\".format(train_Y[0]))"
   ]
  },
  {
   "cell_type": "code",
   "execution_count": 195,
   "metadata": {},
   "outputs": [
    {
     "data": {
      "text/plain": [
       "((55000, 28, 28, 1), (5000, 28, 28, 1))"
      ]
     },
     "execution_count": 195,
     "metadata": {},
     "output_type": "execute_result"
    }
   ],
   "source": [
    "#Reshape Data for Convolutional Neural Network Model\n",
    "train_X_reshape = train_X_reshape.reshape(-1, 28,28, 1)\n",
    "test_X = test_X_reshape.reshape(-1, 28,28, 1)\n",
    "train_X_reshape.shape, test_X.shape"
   ]
  },
  {
   "cell_type": "code",
   "execution_count": 196,
   "metadata": {},
   "outputs": [
    {
     "name": "stdout",
     "output_type": "stream",
     "text": [
      "Original label: 4\n",
      "After conversion to one-hot: [0. 0. 0. 0. 1. 0. 0. 0. 0. 0.]\n"
     ]
    }
   ],
   "source": [
    "from keras.utils import to_categorical\n",
    "\n",
    "# Change Labels from Categorical to One-Hot Encoding\n",
    "train_Y_categorical = to_categorical(train_Y)"
   ]
  },
  {
   "cell_type": "code",
   "execution_count": 197,
   "metadata": {},
   "outputs": [
    {
     "data": {
      "text/plain": [
       "((44000, 28, 28, 1), (11000, 28, 28, 1), (44000, 10), (11000, 10))"
      ]
     },
     "execution_count": 197,
     "metadata": {},
     "output_type": "execute_result"
    }
   ],
   "source": [
    "#Test Train Split for CNN Model\n",
    "from sklearn.model_selection import train_test_split\n",
    "train_X,valid_X,train_Y,valid_Y = train_test_split(train_X_reshape, train_Y_categorical, test_size=0.2)\n",
    "train_X.shape,valid_X.shape,train_Y.shape,valid_Y.shape"
   ]
  },
  {
   "cell_type": "code",
   "execution_count": 198,
   "metadata": {},
   "outputs": [
    {
     "name": "stdout",
     "output_type": "stream",
     "text": [
      "_________________________________________________________________\n",
      "Layer (type)                 Output Shape              Param #   \n",
      "=================================================================\n",
      "conv2d_28 (Conv2D)           (None, 28, 28, 32)        320       \n",
      "_________________________________________________________________\n",
      "leaky_re_lu_37 (LeakyReLU)   (None, 28, 28, 32)        0         \n",
      "_________________________________________________________________\n",
      "max_pooling2d_28 (MaxPooling (None, 14, 14, 32)        0         \n",
      "_________________________________________________________________\n",
      "conv2d_29 (Conv2D)           (None, 14, 14, 64)        18496     \n",
      "_________________________________________________________________\n",
      "leaky_re_lu_38 (LeakyReLU)   (None, 14, 14, 64)        0         \n",
      "_________________________________________________________________\n",
      "max_pooling2d_29 (MaxPooling (None, 7, 7, 64)          0         \n",
      "_________________________________________________________________\n",
      "conv2d_30 (Conv2D)           (None, 7, 7, 128)         73856     \n",
      "_________________________________________________________________\n",
      "leaky_re_lu_39 (LeakyReLU)   (None, 7, 7, 128)         0         \n",
      "_________________________________________________________________\n",
      "max_pooling2d_30 (MaxPooling (None, 4, 4, 128)         0         \n",
      "_________________________________________________________________\n",
      "flatten_10 (Flatten)         (None, 2048)              0         \n",
      "_________________________________________________________________\n",
      "dense_19 (Dense)             (None, 128)               262272    \n",
      "_________________________________________________________________\n",
      "leaky_re_lu_40 (LeakyReLU)   (None, 128)               0         \n",
      "_________________________________________________________________\n",
      "dense_20 (Dense)             (None, 10)                1290      \n",
      "=================================================================\n",
      "Total params: 356,234\n",
      "Trainable params: 356,234\n",
      "Non-trainable params: 0\n",
      "_________________________________________________________________\n"
     ]
    }
   ],
   "source": [
    "import keras\n",
    "from keras.models import Sequential,Input,Model\n",
    "from keras.layers import Dense, Dropout, Flatten\n",
    "from keras.layers import Conv2D, MaxPooling2D\n",
    "from keras.layers.normalization import BatchNormalization\n",
    "from keras.layers.advanced_activations import LeakyReLU\n",
    "\n",
    "batch_size = 64\n",
    "epochs = 20\n",
    "num_classes = 10\n",
    "\n",
    "#Initial 3-Layer Network Architechture\n",
    "model = Sequential()\n",
    "model.add(Conv2D(32, kernel_size=(3, 3),activation='linear',input_shape=(28,28,1),padding='same'))\n",
    "model.add(LeakyReLU(alpha=0.1))\n",
    "model.add(MaxPooling2D((2, 2),padding='same'))\n",
    "model.add(Conv2D(64, (3, 3), activation='linear',padding='same'))\n",
    "model.add(LeakyReLU(alpha=0.1))\n",
    "model.add(MaxPooling2D(pool_size=(2, 2),padding='same'))\n",
    "model.add(Conv2D(128, (3, 3), activation='linear',padding='same'))\n",
    "model.add(LeakyReLU(alpha=0.1))                  \n",
    "model.add(MaxPooling2D(pool_size=(2, 2),padding='same'))\n",
    "model.add(Flatten())\n",
    "model.add(Dense(128, activation='linear'))\n",
    "model.add(LeakyReLU(alpha=0.1))                  \n",
    "model.add(Dense(num_classes, activation='softmax'))\n",
    "\n",
    "model.compile(loss=keras.losses.categorical_crossentropy, optimizer=keras.optimizers.Adam(),metrics=['accuracy'])\n",
    "\n",
    "model.summary()"
   ]
  },
  {
   "cell_type": "code",
   "execution_count": 166,
   "metadata": {},
   "outputs": [
    {
     "name": "stdout",
     "output_type": "stream",
     "text": [
      "Train on 44000 samples, validate on 11000 samples\n",
      "Epoch 1/20\n",
      "44000/44000 [==============================] - 5s 113us/step - loss: 0.4831 - acc: 0.8244 - val_loss: 0.3367 - val_acc: 0.8787\n",
      "Epoch 2/20\n",
      "44000/44000 [==============================] - 4s 90us/step - loss: 0.2972 - acc: 0.8895 - val_loss: 0.2722 - val_acc: 0.9011\n",
      "Epoch 3/20\n",
      "44000/44000 [==============================] - 4s 94us/step - loss: 0.2522 - acc: 0.9069 - val_loss: 0.2518 - val_acc: 0.9074\n",
      "Epoch 4/20\n",
      "44000/44000 [==============================] - 4s 95us/step - loss: 0.2186 - acc: 0.9197 - val_loss: 0.2273 - val_acc: 0.9156\n",
      "Epoch 5/20\n",
      "44000/44000 [==============================] - 4s 91us/step - loss: 0.1921 - acc: 0.9294 - val_loss: 0.2288 - val_acc: 0.9155\n",
      "Epoch 6/20\n",
      "44000/44000 [==============================] - 4s 89us/step - loss: 0.1665 - acc: 0.9380 - val_loss: 0.2194 - val_acc: 0.9208\n",
      "Epoch 7/20\n",
      "44000/44000 [==============================] - 4s 90us/step - loss: 0.1481 - acc: 0.9437 - val_loss: 0.2248 - val_acc: 0.9175\n",
      "Epoch 8/20\n",
      "44000/44000 [==============================] - 4s 89us/step - loss: 0.1261 - acc: 0.9527 - val_loss: 0.2486 - val_acc: 0.9175\n",
      "Epoch 9/20\n",
      "44000/44000 [==============================] - 4s 89us/step - loss: 0.1075 - acc: 0.9599 - val_loss: 0.2645 - val_acc: 0.9165\n",
      "Epoch 10/20\n",
      "44000/44000 [==============================] - 4s 89us/step - loss: 0.0946 - acc: 0.9642 - val_loss: 0.2611 - val_acc: 0.9194\n",
      "Epoch 11/20\n",
      "44000/44000 [==============================] - 4s 89us/step - loss: 0.0796 - acc: 0.9704 - val_loss: 0.2627 - val_acc: 0.9215\n",
      "Epoch 12/20\n",
      "44000/44000 [==============================] - 4s 90us/step - loss: 0.0695 - acc: 0.9740 - val_loss: 0.2865 - val_acc: 0.9187\n",
      "Epoch 13/20\n",
      "44000/44000 [==============================] - 4s 89us/step - loss: 0.0563 - acc: 0.9786 - val_loss: 0.3181 - val_acc: 0.9170\n",
      "Epoch 14/20\n",
      "44000/44000 [==============================] - 4s 89us/step - loss: 0.0507 - acc: 0.9807 - val_loss: 0.2892 - val_acc: 0.9193\n",
      "Epoch 15/20\n",
      "44000/44000 [==============================] - 4s 90us/step - loss: 0.0465 - acc: 0.9829 - val_loss: 0.3508 - val_acc: 0.9071\n",
      "Epoch 16/20\n",
      "44000/44000 [==============================] - 4s 88us/step - loss: 0.0451 - acc: 0.9833 - val_loss: 0.3607 - val_acc: 0.9203\n",
      "Epoch 17/20\n",
      "44000/44000 [==============================] - 4s 89us/step - loss: 0.0330 - acc: 0.9880 - val_loss: 0.3779 - val_acc: 0.9205\n",
      "Epoch 18/20\n",
      "44000/44000 [==============================] - 4s 88us/step - loss: 0.0406 - acc: 0.9854 - val_loss: 0.4151 - val_acc: 0.9076\n",
      "Epoch 19/20\n",
      "44000/44000 [==============================] - 4s 88us/step - loss: 0.0290 - acc: 0.9893 - val_loss: 0.3827 - val_acc: 0.9179\n",
      "Epoch 20/20\n",
      "44000/44000 [==============================] - 4s 89us/step - loss: 0.0324 - acc: 0.9880 - val_loss: 0.3991 - val_acc: 0.9171\n"
     ]
    }
   ],
   "source": [
    "#trained_model = model.fit(train_X, train_Y, batch_size=batch_size,epochs=epochs,verbose=1,validation_data=(valid_X, valid_Y))"
   ]
  },
  {
   "cell_type": "code",
   "execution_count": 168,
   "metadata": {},
   "outputs": [
    {
     "data": {
      "image/png": "[encoded data removed]",
      "text/plain": [
       "<Figure size 432x288 with 1 Axes>"
      ]
     },
     "metadata": {},
     "output_type": "display_data"
    },
    {
     "data": {
      "image/png": "[encoded data removed]",
      "text/plain": [
       "<Figure size 432x288 with 1 Axes>"
      ]
     },
     "metadata": {},
     "output_type": "display_data"
    }
   ],
   "source": [
    "accuracy = trained_model.history['acc']\n",
    "val_accuracy = trained_model.history['val_acc']\n",
    "loss = trained_model.history['loss']\n",
    "val_loss = trained_model.history['val_loss']\n",
    "epochs = range(len(accuracy))\n",
    "plt.plot(epochs, accuracy, 'bo', label='Training Accuracy')\n",
    "plt.plot(epochs, val_accuracy, 'b', label='Validation Accuracy')\n",
    "plt.title('Training and Validation Accuracy')\n",
    "plt.legend()\n",
    "plt.figure()\n",
    "plt.plot(epochs, loss, 'bo', label='Training Loss')\n",
    "plt.plot(epochs, val_loss, 'b', label='Validation Loss')\n",
    "plt.title('Training and Validation Loss')\n",
    "plt.legend()\n",
    "plt.show()"
   ]
  },
  {
   "cell_type": "code",
   "execution_count": 203,
   "metadata": {},
   "outputs": [
    {
     "name": "stdout",
     "output_type": "stream",
     "text": [
      "Train on 44000 samples, validate on 11000 samples\n",
      "Epoch 1/20\n",
      "44000/44000 [==============================] - 6s 130us/step - loss: 0.4901 - acc: 0.8201 - val_loss: 0.3785 - val_acc: 0.8593\n",
      "Epoch 2/20\n",
      "44000/44000 [==============================] - 4s 96us/step - loss: 0.2976 - acc: 0.8928 - val_loss: 0.2663 - val_acc: 0.9011\n",
      "Epoch 3/20\n",
      "44000/44000 [==============================] - 4s 92us/step - loss: 0.2490 - acc: 0.9093 - val_loss: 0.2451 - val_acc: 0.9090\n",
      "Epoch 4/20\n",
      "44000/44000 [==============================] - 4s 92us/step - loss: 0.2148 - acc: 0.9210 - val_loss: 0.2469 - val_acc: 0.9082\n",
      "Epoch 5/20\n",
      "44000/44000 [==============================] - 4s 91us/step - loss: 0.1884 - acc: 0.9296 - val_loss: 0.2203 - val_acc: 0.9201\n",
      "Epoch 6/20\n",
      "44000/44000 [==============================] - 4s 91us/step - loss: 0.1642 - acc: 0.9390 - val_loss: 0.2207 - val_acc: 0.9206\n",
      "Epoch 7/20\n",
      "44000/44000 [==============================] - 4s 91us/step - loss: 0.1425 - acc: 0.9461 - val_loss: 0.2278 - val_acc: 0.9215\n",
      "Epoch 8/20\n",
      "44000/44000 [==============================] - 4s 91us/step - loss: 0.1257 - acc: 0.9531 - val_loss: 0.2263 - val_acc: 0.9220\n",
      "Epoch 9/20\n",
      "44000/44000 [==============================] - 4s 90us/step - loss: 0.1065 - acc: 0.9591 - val_loss: 0.2533 - val_acc: 0.9191\n",
      "Epoch 10/20\n",
      "44000/44000 [==============================] - 4s 90us/step - loss: 0.0898 - acc: 0.9663 - val_loss: 0.2661 - val_acc: 0.9189\n",
      "Epoch 11/20\n",
      "44000/44000 [==============================] - 4s 90us/step - loss: 0.0756 - acc: 0.9715 - val_loss: 0.2866 - val_acc: 0.9175\n",
      "Epoch 12/20\n",
      "44000/44000 [==============================] - 4s 92us/step - loss: 0.0684 - acc: 0.9744 - val_loss: 0.2824 - val_acc: 0.9230\n",
      "Epoch 13/20\n",
      "44000/44000 [==============================] - 4s 91us/step - loss: 0.0604 - acc: 0.9771 - val_loss: 0.2859 - val_acc: 0.9220\n",
      "Epoch 14/20\n",
      "44000/44000 [==============================] - 4s 90us/step - loss: 0.0465 - acc: 0.9821 - val_loss: 0.3115 - val_acc: 0.9239\n",
      "Epoch 15/20\n",
      "44000/44000 [==============================] - 4s 90us/step - loss: 0.0467 - acc: 0.9823 - val_loss: 0.3324 - val_acc: 0.9186\n",
      "Epoch 16/20\n",
      "44000/44000 [==============================] - 4s 90us/step - loss: 0.0420 - acc: 0.9845 - val_loss: 0.3848 - val_acc: 0.9197\n",
      "Epoch 17/20\n",
      "44000/44000 [==============================] - 4s 90us/step - loss: 0.0343 - acc: 0.9879 - val_loss: 0.3798 - val_acc: 0.9213\n",
      "Epoch 18/20\n",
      "44000/44000 [==============================] - 4s 101us/step - loss: 0.0366 - acc: 0.9865 - val_loss: 0.3695 - val_acc: 0.9239\n",
      "Epoch 19/20\n",
      "44000/44000 [==============================] - 4s 100us/step - loss: 0.0317 - acc: 0.9890 - val_loss: 0.3887 - val_acc: 0.9255\n",
      "Epoch 20/20\n",
      "44000/44000 [==============================] - 4s 97us/step - loss: 0.0297 - acc: 0.9892 - val_loss: 0.4487 - val_acc: 0.9197\n",
      "Train on 44000 samples, validate on 11000 samples\n",
      "Epoch 1/20\n",
      "44000/44000 [==============================] - 6s 146us/step - loss: 0.5369 - acc: 0.8040 - val_loss: 0.3399 - val_acc: 0.8754\n",
      "Epoch 2/20\n",
      "44000/44000 [==============================] - 4s 99us/step - loss: 0.3312 - acc: 0.8780 - val_loss: 0.2780 - val_acc: 0.8987\n",
      "Epoch 3/20\n",
      "44000/44000 [==============================] - 4s 98us/step - loss: 0.2819 - acc: 0.8960 - val_loss: 0.2500 - val_acc: 0.9066\n",
      "Epoch 4/20\n",
      "44000/44000 [==============================] - 4s 99us/step - loss: 0.2488 - acc: 0.9075 - val_loss: 0.2329 - val_acc: 0.9163\n",
      "Epoch 5/20\n",
      "44000/44000 [==============================] - 4s 98us/step - loss: 0.2271 - acc: 0.9151 - val_loss: 0.2275 - val_acc: 0.9184\n",
      "Epoch 6/20\n",
      "44000/44000 [==============================] - 4s 99us/step - loss: 0.2096 - acc: 0.9210 - val_loss: 0.2180 - val_acc: 0.9222\n",
      "Epoch 7/20\n",
      "44000/44000 [==============================] - 4s 98us/step - loss: 0.1918 - acc: 0.9281 - val_loss: 0.2203 - val_acc: 0.9197\n",
      "Epoch 8/20\n",
      "44000/44000 [==============================] - 4s 102us/step - loss: 0.1776 - acc: 0.9327 - val_loss: 0.2154 - val_acc: 0.9258\n",
      "Epoch 9/20\n",
      "44000/44000 [==============================] - 5s 106us/step - loss: 0.1658 - acc: 0.9378 - val_loss: 0.2138 - val_acc: 0.9251\n",
      "Epoch 10/20\n",
      "44000/44000 [==============================] - 4s 99us/step - loss: 0.1541 - acc: 0.9412 - val_loss: 0.2103 - val_acc: 0.9255\n",
      "Epoch 11/20\n",
      "44000/44000 [==============================] - 4s 100us/step - loss: 0.1424 - acc: 0.9455 - val_loss: 0.2105 - val_acc: 0.9274\n",
      "Epoch 12/20\n",
      "44000/44000 [==============================] - 4s 98us/step - loss: 0.1339 - acc: 0.9490 - val_loss: 0.2338 - val_acc: 0.9227\n",
      "Epoch 13/20\n",
      "44000/44000 [==============================] - 4s 98us/step - loss: 0.1255 - acc: 0.9522 - val_loss: 0.2310 - val_acc: 0.9237\n",
      "Epoch 14/20\n",
      "44000/44000 [==============================] - 4s 98us/step - loss: 0.1199 - acc: 0.9538 - val_loss: 0.2335 - val_acc: 0.9253\n",
      "Epoch 15/20\n",
      "44000/44000 [==============================] - 4s 99us/step - loss: 0.1109 - acc: 0.9574 - val_loss: 0.2377 - val_acc: 0.9239\n",
      "Epoch 16/20\n",
      "44000/44000 [==============================] - 4s 98us/step - loss: 0.1059 - acc: 0.9588 - val_loss: 0.2433 - val_acc: 0.9238\n",
      "Epoch 17/20\n",
      "44000/44000 [==============================] - 4s 97us/step - loss: 0.1005 - acc: 0.9608 - val_loss: 0.2551 - val_acc: 0.9222\n",
      "Epoch 18/20\n",
      "44000/44000 [==============================] - 5s 105us/step - loss: 0.0960 - acc: 0.9627 - val_loss: 0.2429 - val_acc: 0.9267\n",
      "Epoch 19/20\n",
      "44000/44000 [==============================] - 5s 106us/step - loss: 0.0910 - acc: 0.9658 - val_loss: 0.2640 - val_acc: 0.9245\n",
      "Epoch 20/20\n",
      "44000/44000 [==============================] - 4s 101us/step - loss: 0.0894 - acc: 0.9655 - val_loss: 0.2823 - val_acc: 0.9259\n",
      "Train on 44000 samples, validate on 11000 samples\n",
      "Epoch 1/20\n",
      "44000/44000 [==============================] - 6s 137us/step - loss: 0.5616 - acc: 0.7937 - val_loss: 0.3450 - val_acc: 0.8718\n",
      "Epoch 2/20\n",
      "44000/44000 [==============================] - 4s 98us/step - loss: 0.3500 - acc: 0.8735 - val_loss: 0.3173 - val_acc: 0.8804\n",
      "Epoch 3/20\n",
      "44000/44000 [==============================] - 4s 98us/step - loss: 0.3025 - acc: 0.8897 - val_loss: 0.2647 - val_acc: 0.9015\n",
      "Epoch 4/20\n",
      "44000/44000 [==============================] - 4s 100us/step - loss: 0.2739 - acc: 0.8992 - val_loss: 0.2476 - val_acc: 0.9089\n",
      "Epoch 5/20\n",
      "44000/44000 [==============================] - 4s 98us/step - loss: 0.2537 - acc: 0.9052 - val_loss: 0.2365 - val_acc: 0.9133\n",
      "Epoch 6/20\n",
      "44000/44000 [==============================] - 4s 99us/step - loss: 0.2380 - acc: 0.9112 - val_loss: 0.2307 - val_acc: 0.9171\n",
      "Epoch 7/20\n",
      "44000/44000 [==============================] - 4s 98us/step - loss: 0.2258 - acc: 0.9146 - val_loss: 0.2173 - val_acc: 0.9204\n",
      "Epoch 8/20\n",
      "44000/44000 [==============================] - 4s 98us/step - loss: 0.2135 - acc: 0.9196 - val_loss: 0.2364 - val_acc: 0.9160\n",
      "Epoch 9/20\n",
      "44000/44000 [==============================] - 4s 99us/step - loss: 0.2051 - acc: 0.9237 - val_loss: 0.2244 - val_acc: 0.9189\n",
      "Epoch 10/20\n",
      "44000/44000 [==============================] - 4s 98us/step - loss: 0.1947 - acc: 0.9257 - val_loss: 0.2109 - val_acc: 0.9256\n",
      "Epoch 11/20\n",
      "44000/44000 [==============================] - 4s 98us/step - loss: 0.1917 - acc: 0.9273 - val_loss: 0.2117 - val_acc: 0.9234\n",
      "Epoch 12/20\n",
      "44000/44000 [==============================] - 4s 98us/step - loss: 0.1824 - acc: 0.9307 - val_loss: 0.2107 - val_acc: 0.9264\n",
      "Epoch 13/20\n",
      "44000/44000 [==============================] - 4s 98us/step - loss: 0.1760 - acc: 0.9325 - val_loss: 0.2098 - val_acc: 0.9252\n",
      "Epoch 14/20\n",
      "44000/44000 [==============================] - 4s 98us/step - loss: 0.1717 - acc: 0.9343 - val_loss: 0.2396 - val_acc: 0.9221\n",
      "Epoch 15/20\n",
      "44000/44000 [==============================] - 4s 97us/step - loss: 0.1638 - acc: 0.9375 - val_loss: 0.2188 - val_acc: 0.9247\n",
      "Epoch 16/20\n",
      "44000/44000 [==============================] - 5s 106us/step - loss: 0.1592 - acc: 0.9412 - val_loss: 0.2070 - val_acc: 0.9287\n",
      "Epoch 17/20\n",
      "44000/44000 [==============================] - 5s 106us/step - loss: 0.1560 - acc: 0.9407 - val_loss: 0.2076 - val_acc: 0.9267\n",
      "Epoch 18/20\n",
      "44000/44000 [==============================] - 4s 100us/step - loss: 0.1494 - acc: 0.9433 - val_loss: 0.2131 - val_acc: 0.9297\n",
      "Epoch 19/20\n",
      "44000/44000 [==============================] - 4s 97us/step - loss: 0.1502 - acc: 0.9432 - val_loss: 0.2290 - val_acc: 0.9265\n",
      "Epoch 20/20\n",
      "44000/44000 [==============================] - 4s 98us/step - loss: 0.1488 - acc: 0.9445 - val_loss: 0.2148 - val_acc: 0.9285\n",
      "Train on 44000 samples, validate on 11000 samples\n",
      "Epoch 1/20\n",
      "44000/44000 [==============================] - 6s 142us/step - loss: 0.6215 - acc: 0.7719 - val_loss: 0.3625 - val_acc: 0.8647\n",
      "Epoch 2/20\n",
      "44000/44000 [==============================] - 4s 99us/step - loss: 0.3889 - acc: 0.8584 - val_loss: 0.3129 - val_acc: 0.8834\n",
      "Epoch 3/20\n",
      "44000/44000 [==============================] - 4s 99us/step - loss: 0.3406 - acc: 0.8741 - val_loss: 0.2673 - val_acc: 0.9009\n",
      "Epoch 4/20\n",
      "44000/44000 [==============================] - 4s 99us/step - loss: 0.3104 - acc: 0.8846 - val_loss: 0.2572 - val_acc: 0.9029\n",
      "Epoch 5/20\n",
      "44000/44000 [==============================] - 4s 99us/step - loss: 0.2935 - acc: 0.8908 - val_loss: 0.2471 - val_acc: 0.9092\n",
      "Epoch 6/20\n",
      "44000/44000 [==============================] - 4s 99us/step - loss: 0.2766 - acc: 0.8984 - val_loss: 0.2352 - val_acc: 0.9131\n",
      "Epoch 7/20\n",
      "44000/44000 [==============================] - 4s 99us/step - loss: 0.2628 - acc: 0.9027 - val_loss: 0.2316 - val_acc: 0.9139\n",
      "Epoch 8/20\n",
      "44000/44000 [==============================] - 4s 99us/step - loss: 0.2554 - acc: 0.9050 - val_loss: 0.2501 - val_acc: 0.9075\n",
      "Epoch 9/20\n",
      "44000/44000 [==============================] - 4s 98us/step - loss: 0.2465 - acc: 0.9087 - val_loss: 0.2569 - val_acc: 0.9057\n",
      "Epoch 10/20\n",
      "44000/44000 [==============================] - 4s 99us/step - loss: 0.2404 - acc: 0.9084 - val_loss: 0.2124 - val_acc: 0.9206\n",
      "Epoch 11/20\n",
      "44000/44000 [==============================] - 4s 99us/step - loss: 0.2328 - acc: 0.9118 - val_loss: 0.2251 - val_acc: 0.9146\n",
      "Epoch 12/20\n",
      "44000/44000 [==============================] - 4s 99us/step - loss: 0.2287 - acc: 0.9143 - val_loss: 0.2117 - val_acc: 0.9211\n",
      "Epoch 13/20\n",
      "44000/44000 [==============================] - 4s 101us/step - loss: 0.2245 - acc: 0.9156 - val_loss: 0.2197 - val_acc: 0.9195\n",
      "Epoch 14/20\n",
      "44000/44000 [==============================] - 5s 107us/step - loss: 0.2195 - acc: 0.9171 - val_loss: 0.2077 - val_acc: 0.9261\n",
      "Epoch 15/20\n",
      "44000/44000 [==============================] - 5s 107us/step - loss: 0.2147 - acc: 0.9192 - val_loss: 0.2180 - val_acc: 0.9182\n",
      "Epoch 16/20\n",
      "44000/44000 [==============================] - 4s 98us/step - loss: 0.2101 - acc: 0.9199 - val_loss: 0.2177 - val_acc: 0.9226\n",
      "Epoch 17/20\n",
      "44000/44000 [==============================] - 4s 98us/step - loss: 0.2064 - acc: 0.9203 - val_loss: 0.2093 - val_acc: 0.9250\n",
      "Epoch 18/20\n",
      "44000/44000 [==============================] - 4s 99us/step - loss: 0.2068 - acc: 0.9213 - val_loss: 0.2012 - val_acc: 0.9277\n",
      "Epoch 19/20\n",
      "44000/44000 [==============================] - 4s 98us/step - loss: 0.2055 - acc: 0.9210 - val_loss: 0.2070 - val_acc: 0.9272\n",
      "Epoch 20/20\n",
      "44000/44000 [==============================] - 4s 100us/step - loss: 0.1976 - acc: 0.9257 - val_loss: 0.2059 - val_acc: 0.9285\n",
      "Train on 44000 samples, validate on 11000 samples\n",
      "Epoch 1/20\n",
      "44000/44000 [==============================] - 6s 145us/step - loss: 0.6955 - acc: 0.7376 - val_loss: 0.4254 - val_acc: 0.8380\n",
      "Epoch 2/20\n",
      "44000/44000 [==============================] - 4s 99us/step - loss: 0.4369 - acc: 0.8393 - val_loss: 0.3221 - val_acc: 0.8771\n",
      "Epoch 3/20\n",
      "44000/44000 [==============================] - 4s 99us/step - loss: 0.3796 - acc: 0.8606 - val_loss: 0.2984 - val_acc: 0.8881\n",
      "Epoch 4/20\n",
      "44000/44000 [==============================] - 4s 100us/step - loss: 0.3502 - acc: 0.8699 - val_loss: 0.2755 - val_acc: 0.8948\n",
      "Epoch 5/20\n",
      "44000/44000 [==============================] - 4s 99us/step - loss: 0.3308 - acc: 0.8776 - val_loss: 0.2634 - val_acc: 0.9010\n",
      "Epoch 6/20\n",
      "44000/44000 [==============================] - 5s 106us/step - loss: 0.3153 - acc: 0.8840 - val_loss: 0.2551 - val_acc: 0.9036\n",
      "Epoch 7/20\n",
      "44000/44000 [==============================] - 5s 112us/step - loss: 0.3028 - acc: 0.8887 - val_loss: 0.2428 - val_acc: 0.9087\n",
      "Epoch 8/20\n",
      "44000/44000 [==============================] - 5s 106us/step - loss: 0.2955 - acc: 0.8891 - val_loss: 0.2395 - val_acc: 0.9106\n",
      "Epoch 9/20\n",
      "44000/44000 [==============================] - 4s 98us/step - loss: 0.2884 - acc: 0.8927 - val_loss: 0.2319 - val_acc: 0.9136\n",
      "Epoch 10/20\n",
      "44000/44000 [==============================] - 4s 98us/step - loss: 0.2808 - acc: 0.8955 - val_loss: 0.2347 - val_acc: 0.9123\n",
      "Epoch 11/20\n",
      "44000/44000 [==============================] - 5s 107us/step - loss: 0.2747 - acc: 0.8973 - val_loss: 0.2258 - val_acc: 0.9172\n",
      "Epoch 12/20\n",
      "44000/44000 [==============================] - 5s 108us/step - loss: 0.2698 - acc: 0.8986 - val_loss: 0.2220 - val_acc: 0.9193\n",
      "Epoch 13/20\n",
      "44000/44000 [==============================] - 4s 101us/step - loss: 0.2675 - acc: 0.9017 - val_loss: 0.2277 - val_acc: 0.9149\n",
      "Epoch 14/20\n",
      "44000/44000 [==============================] - 4s 99us/step - loss: 0.2637 - acc: 0.9027 - val_loss: 0.2234 - val_acc: 0.9174\n",
      "Epoch 15/20\n",
      "44000/44000 [==============================] - 4s 99us/step - loss: 0.2621 - acc: 0.9029 - val_loss: 0.2235 - val_acc: 0.9178\n",
      "Epoch 16/20\n",
      "44000/44000 [==============================] - 5s 110us/step - loss: 0.2587 - acc: 0.9024 - val_loss: 0.2216 - val_acc: 0.9200\n",
      "Epoch 17/20\n",
      "44000/44000 [==============================] - 4s 101us/step - loss: 0.2570 - acc: 0.9047 - val_loss: 0.2265 - val_acc: 0.9172\n",
      "Epoch 18/20\n",
      "44000/44000 [==============================] - 4s 98us/step - loss: 0.2522 - acc: 0.9055 - val_loss: 0.2250 - val_acc: 0.9185\n",
      "Epoch 19/20\n",
      "44000/44000 [==============================] - 4s 98us/step - loss: 0.2502 - acc: 0.9067 - val_loss: 0.2122 - val_acc: 0.9235\n",
      "Epoch 20/20\n",
      "44000/44000 [==============================] - 4s 98us/step - loss: 0.2486 - acc: 0.9069 - val_loss: 0.2201 - val_acc: 0.9155\n",
      "Train on 44000 samples, validate on 11000 samples\n",
      "Epoch 1/20\n",
      "44000/44000 [==============================] - 7s 148us/step - loss: 0.7712 - acc: 0.7108 - val_loss: 0.4370 - val_acc: 0.8366\n",
      "Epoch 2/20\n",
      "44000/44000 [==============================] - 4s 99us/step - loss: 0.4959 - acc: 0.8193 - val_loss: 0.3554 - val_acc: 0.8675\n",
      "Epoch 3/20\n",
      "44000/44000 [==============================] - 4s 99us/step - loss: 0.4365 - acc: 0.8408 - val_loss: 0.3160 - val_acc: 0.8829\n",
      "Epoch 4/20\n",
      "44000/44000 [==============================] - 4s 100us/step - loss: 0.4052 - acc: 0.8521 - val_loss: 0.3088 - val_acc: 0.8840\n",
      "Epoch 5/20\n",
      "44000/44000 [==============================] - 4s 98us/step - loss: 0.3798 - acc: 0.8590 - val_loss: 0.2817 - val_acc: 0.8936\n",
      "Epoch 6/20\n",
      "44000/44000 [==============================] - 4s 99us/step - loss: 0.3679 - acc: 0.8648 - val_loss: 0.2795 - val_acc: 0.8961\n",
      "Epoch 7/20\n",
      "44000/44000 [==============================] - 4s 99us/step - loss: 0.3574 - acc: 0.8688 - val_loss: 0.2686 - val_acc: 0.8995\n",
      "Epoch 8/20\n",
      "44000/44000 [==============================] - 5s 103us/step - loss: 0.3490 - acc: 0.8713 - val_loss: 0.2897 - val_acc: 0.8898\n",
      "Epoch 9/20\n",
      "44000/44000 [==============================] - 5s 108us/step - loss: 0.3417 - acc: 0.8728 - val_loss: 0.2614 - val_acc: 0.9014\n",
      "Epoch 10/20\n",
      "44000/44000 [==============================] - 5s 106us/step - loss: 0.3322 - acc: 0.8763 - val_loss: 0.2495 - val_acc: 0.9054\n",
      "Epoch 11/20\n",
      "44000/44000 [==============================] - 4s 99us/step - loss: 0.3323 - acc: 0.8769 - val_loss: 0.2696 - val_acc: 0.8997\n",
      "Epoch 12/20\n",
      "44000/44000 [==============================] - 4s 99us/step - loss: 0.3306 - acc: 0.8772 - val_loss: 0.2577 - val_acc: 0.9047\n",
      "Epoch 13/20\n",
      "44000/44000 [==============================] - 4s 98us/step - loss: 0.3202 - acc: 0.8833 - val_loss: 0.2428 - val_acc: 0.9093\n",
      "Epoch 14/20\n",
      "44000/44000 [==============================] - 4s 100us/step - loss: 0.3195 - acc: 0.8809 - val_loss: 0.2467 - val_acc: 0.9063\n",
      "Epoch 15/20\n",
      "44000/44000 [==============================] - 4s 99us/step - loss: 0.3144 - acc: 0.8839 - val_loss: 0.2498 - val_acc: 0.9063\n",
      "Epoch 16/20\n",
      "44000/44000 [==============================] - 4s 99us/step - loss: 0.3130 - acc: 0.8827 - val_loss: 0.2472 - val_acc: 0.9085\n",
      "Epoch 17/20\n"
     ]
    },
    {
     "name": "stdout",
     "output_type": "stream",
     "text": [
      "44000/44000 [==============================] - 4s 99us/step - loss: 0.3137 - acc: 0.8844 - val_loss: 0.2410 - val_acc: 0.9096\n",
      "Epoch 18/20\n",
      "44000/44000 [==============================] - 4s 98us/step - loss: 0.3109 - acc: 0.8868 - val_loss: 0.2393 - val_acc: 0.9121\n",
      "Epoch 19/20\n",
      "44000/44000 [==============================] - 4s 99us/step - loss: 0.3084 - acc: 0.8847 - val_loss: 0.2282 - val_acc: 0.9127\n",
      "Epoch 20/20\n",
      "44000/44000 [==============================] - 4s 100us/step - loss: 0.3064 - acc: 0.8850 - val_loss: 0.2407 - val_acc: 0.9109\n",
      "Train on 44000 samples, validate on 11000 samples\n",
      "Epoch 1/20\n",
      "44000/44000 [==============================] - 7s 161us/step - loss: 0.8956 - acc: 0.6623 - val_loss: 0.5071 - val_acc: 0.7975\n",
      "Epoch 2/20\n",
      "44000/44000 [==============================] - 4s 101us/step - loss: 0.5783 - acc: 0.7847 - val_loss: 0.4100 - val_acc: 0.8476\n",
      "Epoch 3/20\n",
      "44000/44000 [==============================] - 4s 100us/step - loss: 0.5105 - acc: 0.8115 - val_loss: 0.3766 - val_acc: 0.8567\n",
      "Epoch 4/20\n",
      "44000/44000 [==============================] - 4s 100us/step - loss: 0.4800 - acc: 0.8225 - val_loss: 0.3527 - val_acc: 0.8643\n",
      "Epoch 5/20\n",
      "44000/44000 [==============================] - 4s 100us/step - loss: 0.4564 - acc: 0.8309 - val_loss: 0.3319 - val_acc: 0.8734\n",
      "Epoch 6/20\n",
      "44000/44000 [==============================] - 5s 109us/step - loss: 0.4386 - acc: 0.8385 - val_loss: 0.3146 - val_acc: 0.8785\n",
      "Epoch 7/20\n",
      "44000/44000 [==============================] - 5s 110us/step - loss: 0.4327 - acc: 0.8414 - val_loss: 0.3099 - val_acc: 0.8798\n",
      "Epoch 8/20\n",
      "44000/44000 [==============================] - 4s 100us/step - loss: 0.4207 - acc: 0.8453 - val_loss: 0.3078 - val_acc: 0.8845\n",
      "Epoch 9/20\n",
      "44000/44000 [==============================] - 4s 100us/step - loss: 0.4090 - acc: 0.8488 - val_loss: 0.3059 - val_acc: 0.8824\n",
      "Epoch 10/20\n",
      "44000/44000 [==============================] - 4s 100us/step - loss: 0.4060 - acc: 0.8502 - val_loss: 0.2992 - val_acc: 0.8866\n",
      "Epoch 11/20\n",
      "44000/44000 [==============================] - 4s 100us/step - loss: 0.4023 - acc: 0.8508 - val_loss: 0.2882 - val_acc: 0.8884\n",
      "Epoch 12/20\n",
      "44000/44000 [==============================] - 4s 100us/step - loss: 0.3963 - acc: 0.8537 - val_loss: 0.2831 - val_acc: 0.8933\n",
      "Epoch 13/20\n",
      "44000/44000 [==============================] - 4s 100us/step - loss: 0.3961 - acc: 0.8533 - val_loss: 0.2767 - val_acc: 0.8955\n",
      "Epoch 14/20\n",
      "44000/44000 [==============================] - 4s 99us/step - loss: 0.3945 - acc: 0.8529 - val_loss: 0.2854 - val_acc: 0.8925\n",
      "Epoch 15/20\n",
      "44000/44000 [==============================] - 4s 100us/step - loss: 0.3866 - acc: 0.8574 - val_loss: 0.2851 - val_acc: 0.8935\n",
      "Epoch 16/20\n",
      "44000/44000 [==============================] - 4s 99us/step - loss: 0.3814 - acc: 0.8587 - val_loss: 0.2827 - val_acc: 0.8941\n",
      "Epoch 17/20\n",
      "44000/44000 [==============================] - 4s 101us/step - loss: 0.3860 - acc: 0.8587 - val_loss: 0.2839 - val_acc: 0.8939\n",
      "Epoch 18/20\n",
      "44000/44000 [==============================] - 4s 100us/step - loss: 0.3827 - acc: 0.8583 - val_loss: 0.2709 - val_acc: 0.8985\n",
      "Epoch 19/20\n",
      "44000/44000 [==============================] - 4s 100us/step - loss: 0.3811 - acc: 0.8591 - val_loss: 0.2708 - val_acc: 0.8969\n",
      "Epoch 20/20\n",
      "44000/44000 [==============================] - 4s 100us/step - loss: 0.3775 - acc: 0.8605 - val_loss: 0.2698 - val_acc: 0.8992\n",
      "Train on 44000 samples, validate on 11000 samples\n",
      "Epoch 1/20\n",
      "44000/44000 [==============================] - 7s 155us/step - loss: 1.1618 - acc: 0.5631 - val_loss: 0.6170 - val_acc: 0.7601\n",
      "Epoch 2/20\n",
      "44000/44000 [==============================] - 4s 100us/step - loss: 0.7189 - acc: 0.7309 - val_loss: 0.5229 - val_acc: 0.8056\n",
      "Epoch 3/20\n",
      "44000/44000 [==============================] - 5s 106us/step - loss: 0.6537 - acc: 0.7548 - val_loss: 0.4737 - val_acc: 0.8219\n",
      "Epoch 4/20\n",
      "44000/44000 [==============================] - 5s 110us/step - loss: 0.6103 - acc: 0.7735 - val_loss: 0.4438 - val_acc: 0.8348\n",
      "Epoch 5/20\n",
      "44000/44000 [==============================] - 5s 107us/step - loss: 0.5871 - acc: 0.7812 - val_loss: 0.4277 - val_acc: 0.8380\n",
      "Epoch 6/20\n",
      "44000/44000 [==============================] - 4s 102us/step - loss: 0.5696 - acc: 0.7891 - val_loss: 0.4189 - val_acc: 0.8379\n",
      "Epoch 7/20\n",
      "44000/44000 [==============================] - 4s 101us/step - loss: 0.5564 - acc: 0.7939 - val_loss: 0.4080 - val_acc: 0.8466\n",
      "Epoch 8/20\n",
      "44000/44000 [==============================] - 4s 100us/step - loss: 0.5409 - acc: 0.7974 - val_loss: 0.3932 - val_acc: 0.8479\n",
      "Epoch 9/20\n",
      "44000/44000 [==============================] - 4s 101us/step - loss: 0.5327 - acc: 0.8029 - val_loss: 0.3822 - val_acc: 0.8535\n",
      "Epoch 10/20\n",
      "44000/44000 [==============================] - 4s 100us/step - loss: 0.5280 - acc: 0.8028 - val_loss: 0.3778 - val_acc: 0.8559\n",
      "Epoch 11/20\n",
      "44000/44000 [==============================] - 4s 100us/step - loss: 0.5230 - acc: 0.8084 - val_loss: 0.3872 - val_acc: 0.8524\n",
      "Epoch 12/20\n",
      "44000/44000 [==============================] - 4s 100us/step - loss: 0.5126 - acc: 0.8088 - val_loss: 0.3627 - val_acc: 0.8627\n",
      "Epoch 13/20\n",
      "44000/44000 [==============================] - 4s 101us/step - loss: 0.5083 - acc: 0.8135 - val_loss: 0.3709 - val_acc: 0.8599\n",
      "Epoch 14/20\n",
      "44000/44000 [==============================] - 5s 114us/step - loss: 0.5033 - acc: 0.8123 - val_loss: 0.3640 - val_acc: 0.8620\n",
      "Epoch 15/20\n",
      "44000/44000 [==============================] - 5s 114us/step - loss: 0.5028 - acc: 0.8139 - val_loss: 0.3545 - val_acc: 0.8636\n",
      "Epoch 16/20\n",
      "44000/44000 [==============================] - 4s 101us/step - loss: 0.5035 - acc: 0.8149 - val_loss: 0.3607 - val_acc: 0.8645\n",
      "Epoch 17/20\n",
      "44000/44000 [==============================] - 4s 100us/step - loss: 0.5012 - acc: 0.8134 - val_loss: 0.3573 - val_acc: 0.8664\n",
      "Epoch 18/20\n",
      "44000/44000 [==============================] - 4s 100us/step - loss: 0.5007 - acc: 0.8162 - val_loss: 0.3578 - val_acc: 0.8640\n",
      "Epoch 19/20\n",
      "44000/44000 [==============================] - 4s 101us/step - loss: 0.4909 - acc: 0.8172 - val_loss: 0.3374 - val_acc: 0.8714\n",
      "Epoch 20/20\n",
      "44000/44000 [==============================] - 4s 100us/step - loss: 0.4947 - acc: 0.8184 - val_loss: 0.3429 - val_acc: 0.8677\n",
      "Train on 44000 samples, validate on 11000 samples\n",
      "Epoch 1/20\n",
      "44000/44000 [==============================] - 8s 174us/step - loss: 1.5855 - acc: 0.3965 - val_loss: 0.8511 - val_acc: 0.7181\n",
      "Epoch 2/20\n",
      "44000/44000 [==============================] - 5s 110us/step - loss: 0.9508 - acc: 0.6481 - val_loss: 0.6986 - val_acc: 0.7360\n",
      "Epoch 3/20\n",
      "44000/44000 [==============================] - 4s 101us/step - loss: 0.8404 - acc: 0.6881 - val_loss: 0.6216 - val_acc: 0.7564\n",
      "Epoch 4/20\n",
      "44000/44000 [==============================] - 4s 101us/step - loss: 0.7919 - acc: 0.7043 - val_loss: 0.6243 - val_acc: 0.7553\n",
      "Epoch 5/20\n",
      "44000/44000 [==============================] - 4s 101us/step - loss: 0.7718 - acc: 0.7125 - val_loss: 0.5784 - val_acc: 0.7688\n",
      "Epoch 6/20\n",
      "44000/44000 [==============================] - 4s 100us/step - loss: 0.7451 - acc: 0.7196 - val_loss: 0.5644 - val_acc: 0.7714\n",
      "Epoch 7/20\n",
      "44000/44000 [==============================] - 4s 100us/step - loss: 0.7395 - acc: 0.7256 - val_loss: 0.5367 - val_acc: 0.7929\n",
      "Epoch 8/20\n",
      "44000/44000 [==============================] - 4s 100us/step - loss: 0.7222 - acc: 0.7276 - val_loss: 0.5379 - val_acc: 0.7917\n",
      "Epoch 9/20\n",
      "44000/44000 [==============================] - 4s 100us/step - loss: 0.7159 - acc: 0.7299 - val_loss: 0.5651 - val_acc: 0.7712\n",
      "Epoch 10/20\n",
      "44000/44000 [==============================] - 4s 100us/step - loss: 0.7058 - acc: 0.7361 - val_loss: 0.5562 - val_acc: 0.7785\n",
      "Epoch 11/20\n",
      "44000/44000 [==============================] - 4s 100us/step - loss: 0.6983 - acc: 0.7377 - val_loss: 0.5174 - val_acc: 0.7975\n",
      "Epoch 12/20\n",
      "44000/44000 [==============================] - 4s 101us/step - loss: 0.6995 - acc: 0.7357 - val_loss: 0.5099 - val_acc: 0.8042\n",
      "Epoch 13/20\n",
      "44000/44000 [==============================] - 4s 100us/step - loss: 0.6917 - acc: 0.7411 - val_loss: 0.5111 - val_acc: 0.8022\n",
      "Epoch 14/20\n",
      "44000/44000 [==============================] - 4s 100us/step - loss: 0.6888 - acc: 0.7429 - val_loss: 0.5296 - val_acc: 0.7882\n",
      "Epoch 15/20\n",
      "44000/44000 [==============================] - 4s 101us/step - loss: 0.6901 - acc: 0.7413 - val_loss: 0.4941 - val_acc: 0.8088\n",
      "Epoch 16/20\n",
      "44000/44000 [==============================] - 4s 100us/step - loss: 0.6868 - acc: 0.7440 - val_loss: 0.5074 - val_acc: 0.7877\n",
      "Epoch 17/20\n",
      "44000/44000 [==============================] - 4s 100us/step - loss: 0.6816 - acc: 0.7432 - val_loss: 0.4932 - val_acc: 0.8059\n",
      "Epoch 18/20\n",
      "44000/44000 [==============================] - 5s 107us/step - loss: 0.6753 - acc: 0.7489 - val_loss: 0.5028 - val_acc: 0.8061\n",
      "Epoch 19/20\n",
      "44000/44000 [==============================] - 5s 111us/step - loss: 0.6700 - acc: 0.7502 - val_loss: 0.5383 - val_acc: 0.7902\n",
      "Epoch 20/20\n",
      "44000/44000 [==============================] - 5s 104us/step - loss: 0.6732 - acc: 0.7472 - val_loss: 0.4673 - val_acc: 0.8210\n",
      "Train on 44000 samples, validate on 11000 samples\n",
      "Epoch 1/20\n",
      "44000/44000 [==============================] - 7s 161us/step - loss: 2.4536 - acc: 0.1291 - val_loss: 2.2975 - val_acc: 0.1026\n",
      "Epoch 2/20\n",
      "44000/44000 [==============================] - 4s 101us/step - loss: 1.8810 - acc: 0.2709 - val_loss: 2.2837 - val_acc: 0.1264\n",
      "Epoch 3/20\n",
      "44000/44000 [==============================] - 4s 101us/step - loss: 1.6444 - acc: 0.3511 - val_loss: 2.2680 - val_acc: 0.1851\n",
      "Epoch 4/20\n",
      "44000/44000 [==============================] - 4s 101us/step - loss: 1.5429 - acc: 0.3904 - val_loss: 2.4914 - val_acc: 0.1905\n",
      "Epoch 5/20\n",
      "44000/44000 [==============================] - 4s 101us/step - loss: 1.4891 - acc: 0.4139 - val_loss: 1.7933 - val_acc: 0.3356\n",
      "Epoch 6/20\n",
      "44000/44000 [==============================] - 4s 101us/step - loss: 1.4545 - acc: 0.4293 - val_loss: 1.8443 - val_acc: 0.3315\n",
      "Epoch 7/20\n",
      "44000/44000 [==============================] - 4s 100us/step - loss: 1.4320 - acc: 0.4368 - val_loss: 1.5838 - val_acc: 0.4075\n",
      "Epoch 8/20\n",
      "44000/44000 [==============================] - 4s 102us/step - loss: 1.4119 - acc: 0.4474 - val_loss: 1.5972 - val_acc: 0.4083\n",
      "Epoch 9/20\n",
      "44000/44000 [==============================] - 4s 100us/step - loss: 1.3990 - acc: 0.4515 - val_loss: 1.4291 - val_acc: 0.4565\n",
      "Epoch 10/20\n",
      "44000/44000 [==============================] - 4s 101us/step - loss: 1.3692 - acc: 0.4629 - val_loss: 1.3620 - val_acc: 0.5354\n",
      "Epoch 11/20\n",
      "44000/44000 [==============================] - 4s 102us/step - loss: 1.3377 - acc: 0.4735 - val_loss: 1.2199 - val_acc: 0.5610\n",
      "Epoch 12/20\n",
      "44000/44000 [==============================] - 4s 101us/step - loss: 1.2918 - acc: 0.4887 - val_loss: 1.1782 - val_acc: 0.6239\n",
      "Epoch 13/20\n",
      "44000/44000 [==============================] - 4s 101us/step - loss: 1.2684 - acc: 0.5010 - val_loss: 1.1644 - val_acc: 0.6249\n",
      "Epoch 14/20\n",
      "44000/44000 [==============================] - 4s 101us/step - loss: 1.2431 - acc: 0.5108 - val_loss: 1.1132 - val_acc: 0.6305\n",
      "Epoch 15/20\n",
      "44000/44000 [==============================] - 5s 106us/step - loss: 1.2382 - acc: 0.5188 - val_loss: 1.0446 - val_acc: 0.6372\n",
      "Epoch 16/20\n",
      "44000/44000 [==============================] - 5s 111us/step - loss: 1.2108 - acc: 0.5274 - val_loss: 1.0080 - val_acc: 0.6195\n",
      "Epoch 17/20\n",
      "44000/44000 [==============================] - 5s 106us/step - loss: 1.2039 - acc: 0.5322 - val_loss: 0.9748 - val_acc: 0.6683\n",
      "Epoch 18/20\n",
      "44000/44000 [==============================] - 4s 101us/step - loss: 1.1944 - acc: 0.5388 - val_loss: 1.0128 - val_acc: 0.6488\n",
      "Epoch 19/20\n",
      "44000/44000 [==============================] - 4s 101us/step - loss: 1.1811 - acc: 0.5445 - val_loss: 0.8999 - val_acc: 0.6826\n",
      "Epoch 20/20\n",
      "44000/44000 [==============================] - 4s 101us/step - loss: 1.1759 - acc: 0.5488 - val_loss: 0.9649 - val_acc: 0.6506\n",
      "Train on 44000 samples, validate on 11000 samples\n",
      "Epoch 1/20\n",
      "44000/44000 [==============================] - 7s 153us/step - loss: 0.4789 - acc: 0.8249 - val_loss: 0.3368 - val_acc: 0.8753\n",
      "Epoch 2/20\n",
      "44000/44000 [==============================] - 4s 93us/step - loss: 0.2973 - acc: 0.8915 - val_loss: 0.2718 - val_acc: 0.8986\n",
      "Epoch 3/20\n",
      "44000/44000 [==============================] - 4s 93us/step - loss: 0.2445 - acc: 0.9104 - val_loss: 0.2458 - val_acc: 0.9079\n",
      "Epoch 4/20\n",
      "44000/44000 [==============================] - 4s 94us/step - loss: 0.2155 - acc: 0.9204 - val_loss: 0.2357 - val_acc: 0.9154\n",
      "Epoch 5/20\n",
      "44000/44000 [==============================] - 4s 94us/step - loss: 0.1874 - acc: 0.9309 - val_loss: 0.2176 - val_acc: 0.9208\n",
      "Epoch 6/20\n",
      "44000/44000 [==============================] - 4s 93us/step - loss: 0.1646 - acc: 0.9397 - val_loss: 0.2242 - val_acc: 0.9186\n",
      "Epoch 7/20\n",
      "44000/44000 [==============================] - 4s 93us/step - loss: 0.1442 - acc: 0.9477 - val_loss: 0.2423 - val_acc: 0.9163\n",
      "Epoch 8/20\n",
      "44000/44000 [==============================] - 4s 93us/step - loss: 0.1245 - acc: 0.9537 - val_loss: 0.2373 - val_acc: 0.9201\n",
      "Epoch 9/20\n",
      "44000/44000 [==============================] - 4s 93us/step - loss: 0.1050 - acc: 0.9609 - val_loss: 0.2457 - val_acc: 0.9224\n",
      "Epoch 10/20\n",
      "44000/44000 [==============================] - 4s 93us/step - loss: 0.0888 - acc: 0.9670 - val_loss: 0.2698 - val_acc: 0.9208\n",
      "Epoch 11/20\n",
      "44000/44000 [==============================] - 4s 95us/step - loss: 0.0765 - acc: 0.9716 - val_loss: 0.2654 - val_acc: 0.9200\n",
      "Epoch 12/20\n",
      "44000/44000 [==============================] - 4s 95us/step - loss: 0.0660 - acc: 0.9751 - val_loss: 0.2949 - val_acc: 0.9212\n",
      "Epoch 13/20\n",
      "44000/44000 [==============================] - 4s 97us/step - loss: 0.0552 - acc: 0.9795 - val_loss: 0.3056 - val_acc: 0.9183\n",
      "Epoch 14/20\n",
      "44000/44000 [==============================] - 5s 103us/step - loss: 0.0511 - acc: 0.9806 - val_loss: 0.3074 - val_acc: 0.9205\n",
      "Epoch 15/20\n",
      "44000/44000 [==============================] - 4s 101us/step - loss: 0.0454 - acc: 0.9831 - val_loss: 0.3256 - val_acc: 0.9225\n",
      "Epoch 16/20\n",
      "44000/44000 [==============================] - 4s 93us/step - loss: 0.0364 - acc: 0.9859 - val_loss: 0.3683 - val_acc: 0.9165\n",
      "Epoch 17/20\n",
      "44000/44000 [==============================] - 4s 93us/step - loss: 0.0335 - acc: 0.9878 - val_loss: 0.4009 - val_acc: 0.9154\n",
      "Epoch 18/20\n",
      "44000/44000 [==============================] - 4s 93us/step - loss: 0.0344 - acc: 0.9870 - val_loss: 0.3857 - val_acc: 0.9194\n",
      "Epoch 19/20\n",
      "44000/44000 [==============================] - 4s 94us/step - loss: 0.0316 - acc: 0.9890 - val_loss: 0.4043 - val_acc: 0.9205\n",
      "Epoch 20/20\n",
      "44000/44000 [==============================] - 4s 93us/step - loss: 0.0294 - acc: 0.9895 - val_loss: 0.4189 - val_acc: 0.9139\n"
     ]
    }
   ],
   "source": [
    "batch_size = 64\n",
    "epochs = 20\n",
    "num_classes = 10\n",
    "\n",
    "rate = [0, 0.1, 0.2, 0.3, 0.4, 0.5, 0.6, 0.7, 0.8, 0.9, 1]\n",
    "val_acc = []\n",
    "\n",
    "#Add Dropout Layer and Tune Rate Hyperparameter\n",
    "#for r in rate:\n",
    "#    model = Sequential()\n",
    "#    model.add(Conv2D(32, kernel_size=(3, 3),activation='linear',padding='same',input_shape=(28,28,1)))\n",
    "#    model.add(LeakyReLU(alpha=0.1))\n",
    "#    model.add(MaxPooling2D((2, 2),padding='same'))\n",
    "#    model.add(Dropout(r))\n",
    "#    model.add(Conv2D(64, (3, 3), activation='linear',padding='same'))\n",
    "#    model.add(LeakyReLU(alpha=0.1))\n",
    "#    model.add(MaxPooling2D(pool_size=(2, 2),padding='same'))\n",
    "#    model.add(Dropout(r))\n",
    "#    model.add(Conv2D(128, (3, 3), activation='linear',padding='same'))\n",
    "#    model.add(LeakyReLU(alpha=0.1))                  \n",
    "#    model.add(MaxPooling2D(pool_size=(2, 2),padding='same'))\n",
    "#    model.add(Dropout(r))\n",
    "#    model.add(Flatten())\n",
    "#    model.add(Dense(128, activation='linear'))\n",
    "#    model.add(LeakyReLU(alpha=0.1))           \n",
    "#    model.add(Dropout(r))\n",
    "#    model.add(Dense(num_classes, activation='softmax'))\n",
    "#\n",
    "#    #model.summary()\n",
    "#\n",
    "#    model.compile(loss=keras.losses.categorical_crossentropy, optimizer=keras.optimizers.Adam(),metrics=['accuracy'])\n",
    "#\n",
    "#    trained_model_dropout = model.fit(train_X, train_Y, batch_size=batch_size,epochs=epochs,verbose=1,validation_data=(valid_X, valid_Y))\n",
    "#\n",
    "#    val_acc.append(trained_model_dropout.history['val_acc'][-1])"
   ]
  },
  {
   "cell_type": "code",
   "execution_count": 205,
   "metadata": {},
   "outputs": [
    {
     "name": "stdout",
     "output_type": "stream",
     "text": [
      "[0.9197272726405751, 0.9259090909957886, 0.928454545584592, 0.9284545455412431, 0.9154545455845919, 0.9109090910391374, 0.8991818180517717, 0.8677272726839239, 0.8209999998699535, 0.6506363635930148, 0.9139090907790444]\n"
     ]
    },
    {
     "data": {
      "image/png": "[encoded data removed]",
      "text/plain": [
       "<Figure size 432x288 with 1 Axes>"
      ]
     },
     "metadata": {},
     "output_type": "display_data"
    }
   ],
   "source": [
    "plt.plot(rate, val_acc)\n",
    "plt.xlabel(\"Dropout Layer - Rate Parameter\")\n",
    "plt.ylabel(\"Validation Accuracy\")\n",
    "print(val_acc)"
   ]
  },
  {
   "cell_type": "code",
   "execution_count": 206,
   "metadata": {},
   "outputs": [
    {
     "name": "stdout",
     "output_type": "stream",
     "text": [
      "Train on 44000 samples, validate on 11000 samples\n",
      "Epoch 1/20\n",
      "44000/44000 [==============================] - 7s 170us/step - loss: 0.5963 - acc: 0.7785 - val_loss: 0.3558 - val_acc: 0.8703\n",
      "Epoch 2/20\n",
      "44000/44000 [==============================] - 5s 109us/step - loss: 0.3730 - acc: 0.8628 - val_loss: 0.2959 - val_acc: 0.8881\n",
      "Epoch 3/20\n",
      "44000/44000 [==============================] - 5s 113us/step - loss: 0.3237 - acc: 0.8802 - val_loss: 0.2704 - val_acc: 0.8965\n",
      "Epoch 4/20\n",
      "44000/44000 [==============================] - 5s 106us/step - loss: 0.2948 - acc: 0.8906 - val_loss: 0.2526 - val_acc: 0.9048\n",
      "Epoch 5/20\n",
      "44000/44000 [==============================] - 5s 102us/step - loss: 0.2752 - acc: 0.8983 - val_loss: 0.2393 - val_acc: 0.9111\n",
      "Epoch 6/20\n",
      "44000/44000 [==============================] - 5s 102us/step - loss: 0.2575 - acc: 0.9052 - val_loss: 0.2445 - val_acc: 0.9076\n",
      "Epoch 7/20\n",
      "44000/44000 [==============================] - 5s 102us/step - loss: 0.2459 - acc: 0.9086 - val_loss: 0.2175 - val_acc: 0.9197\n",
      "Epoch 8/20\n",
      "44000/44000 [==============================] - 5s 103us/step - loss: 0.2383 - acc: 0.9102 - val_loss: 0.2105 - val_acc: 0.9216\n",
      "Epoch 9/20\n",
      "44000/44000 [==============================] - 4s 102us/step - loss: 0.2261 - acc: 0.9152 - val_loss: 0.2085 - val_acc: 0.9223\n",
      "Epoch 10/20\n",
      "44000/44000 [==============================] - 4s 102us/step - loss: 0.2181 - acc: 0.9173 - val_loss: 0.2231 - val_acc: 0.9162\n",
      "Epoch 11/20\n",
      "44000/44000 [==============================] - 5s 103us/step - loss: 0.2085 - acc: 0.9196 - val_loss: 0.2096 - val_acc: 0.9229\n",
      "Epoch 12/20\n",
      "44000/44000 [==============================] - 4s 102us/step - loss: 0.2067 - acc: 0.9224 - val_loss: 0.2081 - val_acc: 0.9245\n",
      "Epoch 13/20\n",
      "44000/44000 [==============================] - 4s 102us/step - loss: 0.1977 - acc: 0.9257 - val_loss: 0.2073 - val_acc: 0.9240\n",
      "Epoch 14/20\n",
      "44000/44000 [==============================] - 5s 102us/step - loss: 0.1930 - acc: 0.9263 - val_loss: 0.2038 - val_acc: 0.9239\n",
      "Epoch 15/20\n",
      "44000/44000 [==============================] - 4s 102us/step - loss: 0.1903 - acc: 0.9272 - val_loss: 0.2094 - val_acc: 0.9257\n",
      "Epoch 16/20\n",
      "44000/44000 [==============================] - 4s 102us/step - loss: 0.1842 - acc: 0.9302 - val_loss: 0.1986 - val_acc: 0.9286\n",
      "Epoch 17/20\n",
      "44000/44000 [==============================] - 4s 102us/step - loss: 0.1807 - acc: 0.9322 - val_loss: 0.2010 - val_acc: 0.9288\n",
      "Epoch 18/20\n",
      "44000/44000 [==============================] - 5s 102us/step - loss: 0.1786 - acc: 0.9338 - val_loss: 0.2032 - val_acc: 0.9277\n",
      "Epoch 19/20\n",
      "44000/44000 [==============================] - 4s 102us/step - loss: 0.1757 - acc: 0.9327 - val_loss: 0.2082 - val_acc: 0.9250\n",
      "Epoch 20/20\n",
      "44000/44000 [==============================] - 5s 112us/step - loss: 0.1709 - acc: 0.9341 - val_loss: 0.1987 - val_acc: 0.9312\n"
     ]
    }
   ],
   "source": [
    "#Convolutional Neural Network with Optimal Dropout Rate\n",
    "model = Sequential()\n",
    "model.add(Conv2D(32, kernel_size=(3, 3),activation='linear',padding='same',input_shape=(28,28,1)))\n",
    "model.add(LeakyReLU(alpha=0.1))\n",
    "model.add(MaxPooling2D((2, 2),padding='same'))\n",
    "model.add(Dropout(0.25))\n",
    "model.add(Conv2D(64, (3, 3), activation='linear',padding='same'))\n",
    "model.add(LeakyReLU(alpha=0.1))\n",
    "model.add(MaxPooling2D(pool_size=(2, 2),padding='same'))\n",
    "model.add(Dropout(0.25))\n",
    "model.add(Conv2D(128, (3, 3), activation='linear',padding='same'))\n",
    "model.add(LeakyReLU(alpha=0.1))                  \n",
    "model.add(MaxPooling2D(pool_size=(2, 2),padding='same'))\n",
    "model.add(Dropout(0.25))\n",
    "model.add(Flatten())\n",
    "model.add(Dense(128, activation='linear'))\n",
    "model.add(LeakyReLU(alpha=0.1))           \n",
    "model.add(Dropout(0.25))\n",
    "model.add(Dense(num_classes, activation='softmax'))\n",
    "\n",
    "#model.summary()\n",
    "\n",
    "model.compile(loss=keras.losses.categorical_crossentropy, optimizer=keras.optimizers.Adam(),metrics=['accuracy'])\n",
    "\n",
    "trained_model_dropout = model.fit(train_X, train_Y, batch_size=batch_size,epochs=epochs,verbose=1,validation_data=(valid_X, valid_Y))"
   ]
  },
  {
   "cell_type": "code",
   "execution_count": 202,
   "metadata": {},
   "outputs": [
    {
     "data": {
      "text/plain": [
       "0.9261818180517717"
      ]
     },
     "execution_count": 202,
     "metadata": {},
     "output_type": "execute_result"
    }
   ],
   "source": [
    "trained_model_dropout.history['val_acc'][-1]"
   ]
  },
  {
   "cell_type": "code",
   "execution_count": 207,
   "metadata": {},
   "outputs": [
    {
     "data": {
      "image/png": "[encoded data removed]",
      "text/plain": [
       "<Figure size 432x288 with 1 Axes>"
      ]
     },
     "metadata": {},
     "output_type": "display_data"
    },
    {
     "data": {
      "image/png": "[encoded data removed]",
      "text/plain": [
       "<Figure size 432x288 with 1 Axes>"
      ]
     },
     "metadata": {},
     "output_type": "display_data"
    }
   ],
   "source": [
    "accuracy = trained_model_dropout.history['acc']\n",
    "val_accuracy = trained_model_dropout.history['val_acc']\n",
    "loss = trained_model_dropout.history['loss']\n",
    "val_loss = trained_model_dropout.history['val_loss']\n",
    "epochs = range(len(accuracy))\n",
    "plt.plot(epochs, accuracy, 'bo', label='Training Accuracy')\n",
    "plt.plot(epochs, val_accuracy, 'b', label='Validation Accuracy')\n",
    "plt.title('Training and Validation Accuracy')\n",
    "plt.legend()\n",
    "plt.figure()\n",
    "plt.plot(epochs, loss, 'bo', label='Training Loss')\n",
    "plt.plot(epochs, val_loss, 'b', label='Validation Loss')\n",
    "plt.title('Training and Validation Loss')\n",
    "plt.legend()\n",
    "plt.show()"
   ]
  },
  {
   "cell_type": "code",
   "execution_count": null,
   "metadata": {},
   "outputs": [],
   "source": [
    "#Predict for Kaggle Competition Submission\n",
    "predicted_classes = model.predict(test_X)\n",
    "predicted_classes = np.argmax(np.round(predicted_classes),axis=1)\n",
    "predicted_classes.shape"
   ]
  },
  {
   "cell_type": "code",
   "execution_count": null,
   "metadata": {},
   "outputs": [],
   "source": [
    "import csv\n",
    "\n",
    "with open('cnn_submission.csv', 'w') as output:\n",
    "    writer = csv.writer(output)\n",
    "    writer.writerow([\"Id\",\"Category\"])\n",
    "    for i, value in enumerate(predicted_classes):\n",
    "        writer.writerow([i,value])\n",
    "    \n",
    "output.close()"
   ]
  }
 ],
 "metadata": {
  "kernelspec": {
   "display_name": "Python 3",
   "language": "python",
   "name": "python3"
  },
  "language_info": {
   "codemirror_mode": {
    "name": "ipython",
    "version": 3
   },
   "file_extension": ".py",
   "mimetype": "text/x-python",
   "name": "python",
   "nbconvert_exporter": "python",
   "pygments_lexer": "ipython3",
   "version": "3.7.1"
  }
 },
 "nbformat": 4,
 "nbformat_minor": 1
}
